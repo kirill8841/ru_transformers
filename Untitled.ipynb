{
 "cells": [
  {
   "cell_type": "code",
   "execution_count": 1,
   "metadata": {},
   "outputs": [],
   "source": [
    "output = r'C:\\Users\\troic\\Desktop\\Python\\Learning_stuff\\projects\\artur_bot\\porf\\all\\artur'\n",
    "data = r'C:\\Users\\troic\\Desktop\\Python\\Learning_stuff\\projects\\artur_bot\\augm_full.txt'\n",
    "config = r'C:\\Users\\troic\\Desktop\\Python\\Learning_stuff\\projects\\artur_bot\\porf\\all\\artur\\config.json'"
   ]
  },
  {
   "cell_type": "code",
   "execution_count": null,
   "metadata": {
    "scrolled": true
   },
   "outputs": [],
   "source": [
    "!python run_lm_finetuning.py --output_dir={output} --train_data_file={data} --model_name_or_path={output} --tokenizer_class YTEncoder --do_train --unfreeze_level 0 --model_type=gpt2 --config_name={config} --overwrite_output_dir --block_size 40\n"
   ]
  }
 ],
 "metadata": {
  "kernelspec": {
   "display_name": "Python 3",
   "language": "python",
   "name": "python3"
  },
  "language_info": {
   "codemirror_mode": {
    "name": "ipython",
    "version": 3
   },
   "file_extension": ".py",
   "mimetype": "text/x-python",
   "name": "python",
   "nbconvert_exporter": "python",
   "pygments_lexer": "ipython3",
   "version": "3.7.6"
  }
 },
 "nbformat": 4,
 "nbformat_minor": 4
}

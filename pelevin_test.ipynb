{
 "cells": [
  {
   "cell_type": "code",
   "execution_count": 1,
   "metadata": {},
   "outputs": [],
   "source": [
    "import torch\n",
    "torch.backends.cudnn.enabled = True\n",
    "torch.backends.cudnn.benchmark = True\n",
    "\n",
    "from run_generation import sample_sequence\n",
    "from yt_encoder import YTEncoder\n",
    "from transformers import GPT2LMHeadModel\n",
    "import threading\n",
    "import regex as re\n",
    "\n",
    "from os import environ\n",
    "device = environ.get('DEVICE', 'cuda:0')"
   ]
  },
  {
   "cell_type": "code",
   "execution_count": null,
   "metadata": {},
   "outputs": [],
   "source": [
    "device"
   ]
  },
  {
   "cell_type": "code",
   "execution_count": 2,
   "metadata": {},
   "outputs": [],
   "source": [
    "model_path = r'C:\\Users\\troic\\Desktop\\Python\\Learning stuff\\projects\\artur_bot\\porf\\all\\pelevin\\s_checkpoint-1900280'"
   ]
  },
  {
   "cell_type": "code",
   "execution_count": 3,
   "metadata": {},
   "outputs": [],
   "source": [
    "tokenizer = YTEncoder.from_pretrained(model_path)"
   ]
  },
  {
   "cell_type": "code",
   "execution_count": null,
   "metadata": {},
   "outputs": [
    {
     "name": "stderr",
     "output_type": "stream",
     "text": [
      "07/09/2020 22:03:22 - INFO - transformers.configuration_utils -   loading configuration file C:\\Users\\troic\\Desktop\\Python\\Learning stuff\\projects\\artur_bot\\porf\\all\\pelevin\\s_checkpoint-1900280\\config.json\n",
      "07/09/2020 22:03:22 - INFO - transformers.configuration_utils -   Model config GPT2Config {\n",
      "  \"activation_function\": \"gelu_new\",\n",
      "  \"attn_pdrop\": 0.1,\n",
      "  \"bos_token_id\": 50256,\n",
      "  \"embd_pdrop\": 0.1,\n",
      "  \"eos_token_id\": 50256,\n",
      "  \"id2label\": {\n",
      "    \"0\": \"LABEL_0\"\n",
      "  },\n",
      "  \"initializer_range\": 0.02,\n",
      "  \"label2id\": {\n",
      "    \"LABEL_0\": 0\n",
      "  },\n",
      "  \"layer_norm_epsilon\": 1e-05,\n",
      "  \"model_type\": \"gpt2\",\n",
      "  \"n_ctx\": 1024,\n",
      "  \"n_embd\": 768,\n",
      "  \"n_head\": 12,\n",
      "  \"n_layer\": 12,\n",
      "  \"n_positions\": 1024,\n",
      "  \"output_past\": true,\n",
      "  \"resid_pdrop\": 0.1,\n",
      "  \"summary_activation\": null,\n",
      "  \"summary_first_dropout\": 0.1,\n",
      "  \"summary_proj_to_labels\": true,\n",
      "  \"summary_type\": \"cls_index\",\n",
      "  \"summary_use_proj\": true,\n",
      "  \"vocab_size\": 50257\n",
      "}\n",
      "\n",
      "07/09/2020 22:03:22 - INFO - transformers.modeling_utils -   loading weights file C:\\Users\\troic\\Desktop\\Python\\Learning stuff\\projects\\artur_bot\\porf\\all\\pelevin\\s_checkpoint-1900280\\pytorch_model.bin\n",
      "07/09/2020 22:04:06 - INFO - transformers.modeling_utils -   All model checkpoint weights were used when initializing GPT2LMHeadModel.\n",
      "\n",
      "07/09/2020 22:04:06 - WARNING - transformers.modeling_utils -   Some weights of GPT2LMHeadModel were not initialized from the model checkpoint at C:\\Users\\troic\\Desktop\\Python\\Learning stuff\\projects\\artur_bot\\porf\\all\\pelevin\\s_checkpoint-1900280 and are newly initialized: ['transformer.h.0.attn.masked_bias', 'transformer.h.1.attn.masked_bias', 'transformer.h.2.attn.masked_bias', 'transformer.h.3.attn.masked_bias', 'transformer.h.4.attn.masked_bias', 'transformer.h.5.attn.masked_bias', 'transformer.h.6.attn.masked_bias', 'transformer.h.7.attn.masked_bias', 'transformer.h.8.attn.masked_bias', 'transformer.h.9.attn.masked_bias', 'transformer.h.10.attn.masked_bias', 'transformer.h.11.attn.masked_bias']\n",
      "You should probably TRAIN this model on a down-stream task to be able to use it for predictions and inference.\n"
     ]
    }
   ],
   "source": [
    "model = GPT2LMHeadModel.from_pretrained(model_path)\n",
    "model.to(device)\n",
    "model.eval()"
   ]
  },
  {
   "cell_type": "code",
   "execution_count": null,
   "metadata": {},
   "outputs": [],
   "source": [
    "def get_sample(model, prompt, length:int, num_samples:int, allow_linebreak:bool):\n",
    "   \n",
    "    filter_n = tokenizer.encode('\\n')[-1:]\n",
    "    filter_single = [1] + tokenizer.encode('[')[-1:] + tokenizer.encode('(')[-1:]\n",
    "    filter_single += [] if allow_linebreak else filter_n\n",
    "\n",
    "    context_tokens = tokenizer.encode(prompt)\n",
    "    out = sample_sequence(\n",
    "        model=model,\n",
    "        context=context_tokens,\n",
    "        length=length,\n",
    "        temperature=1,\n",
    "        top_k=0,\n",
    "        top_p=0.9,\n",
    "        device=device,\n",
    "        filter_single=filter_single,\n",
    "        filter_double=filter_n,\n",
    "        num_samples=num_samples,\n",
    "    ).to('cpu')\n",
    "\n",
    "    prompt = tokenizer.decode(context_tokens)\n",
    "    len_prompt = len(prompt)\n",
    "   \n",
    "    replies = [out[item, :].tolist() for item in range(len(out))]\n",
    "    text = [tokenizer.decode(item)[len_prompt:] for item in replies]\n",
    "    reg_text = [re.match(r'[\\w\\W]*[\\.!?]\\n', item) for item in text]\n",
    "    reg_text2 = [re.match(r'[\\w\\W]*[\\.!?]', item) for item in text]\n",
    "    result = [reg_item[0] if reg_item else reg_item2[0] if reg_item2 else item for reg_item, reg_item2, item in zip(reg_text, reg_text2, text)]\n",
    "    logger.info(result)\n",
    "    return result"
   ]
  }
 ],
 "metadata": {
  "kernelspec": {
   "display_name": "Python 3",
   "language": "python",
   "name": "python3"
  },
  "language_info": {
   "codemirror_mode": {
    "name": "ipython",
    "version": 3
   },
   "file_extension": ".py",
   "mimetype": "text/x-python",
   "name": "python",
   "nbconvert_exporter": "python",
   "pygments_lexer": "ipython3",
   "version": "3.7.6"
  }
 },
 "nbformat": 4,
 "nbformat_minor": 4
}
